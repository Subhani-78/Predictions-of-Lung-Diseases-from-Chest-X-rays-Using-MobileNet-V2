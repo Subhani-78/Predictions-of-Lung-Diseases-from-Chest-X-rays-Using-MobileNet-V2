{
 "cells": [
  {
   "cell_type": "code",
   "execution_count": 29,
   "id": "49ee905a",
   "metadata": {},
   "outputs": [],
   "source": [
    "from typing import List\n",
    "from setuptools import find_packages\n",
    "from setuptools import setup"
   ]
  },
  {
   "cell_type": "code",
   "execution_count": 35,
   "id": "186636f7",
   "metadata": {},
   "outputs": [],
   "source": [
    "# Declaring setup function variables\n",
    "PROJECT_NAME = \"MOBILENETV2-LUNG-DISEASE-CLASSIFIER\"\n",
    "VERSION = \"0.0.1\"\n",
    "AUTHOR = \"Mujeeb Subhani\"\n",
    "DESCRIPTION = \"Developed a classification and prediction model for lung pathologies of frontal thoracic X-rays using a modified model MobileNet V2.\" \n",
    "\n",
    "REQUIREMENT_FILE_NAME = \"test_requirements.txt\"\n",
    "HYPHEN_E_DOT = \"-e .\""
   ]
  },
  {
   "cell_type": "code",
   "execution_count": 36,
   "id": "8b9ab264",
   "metadata": {},
   "outputs": [],
   "source": [
    "def get_requirements_list() -> List[str]:\n",
    "    \"\"\"\n",
    "    Description: This function is going to return list of requirement\n",
    "    mention in requirements.txt file\n",
    "    return This function is going to return a list which contain name\n",
    "    of libraries mentioned in requirements.txt file\n",
    "    \"\"\"\n",
    "    with open(REQUIREMENT_FILE_NAME) as requirement_file:\n",
    "        requirement_list = requirement_file.readlines()\n",
    "        requirement_list = [requirement_name.replace(\"\\n\", \"\") for requirement_name in requirement_list]\n",
    "        if HYPHEN_E_DOT in requirement_list:\n",
    "            requirement_list.remove(HYPHEN_E_DOT)\n",
    "        return requirement_list"
   ]
  },
  {
   "cell_type": "code",
   "execution_count": 40,
   "id": "a13e973a",
   "metadata": {},
   "outputs": [],
   "source": [
    "try:\n",
    "    setup(\n",
    "        name=PROJECT_NAME,\n",
    "        version=VERSION,\n",
    "        author=AUTHOR,\n",
    "        description=DESCRIPTION,\n",
    "        packages=find_packages(), \n",
    "        install_requires=get_requirements_list()\n",
    "    )\n",
    "except:\n",
    "    pass"
   ]
  },
  {
   "cell_type": "code",
   "execution_count": null,
   "id": "b9a4a946",
   "metadata": {},
   "outputs": [],
   "source": []
  }
 ],
 "metadata": {
  "kernelspec": {
   "display_name": "Python 3.9 (tensorflow)",
   "language": "python",
   "name": "tensorflow"
  },
  "language_info": {
   "codemirror_mode": {
    "name": "ipython",
    "version": 3
   },
   "file_extension": ".py",
   "mimetype": "text/x-python",
   "name": "python",
   "nbconvert_exporter": "python",
   "pygments_lexer": "ipython3",
   "version": "3.9.13"
  }
 },
 "nbformat": 4,
 "nbformat_minor": 5
}
